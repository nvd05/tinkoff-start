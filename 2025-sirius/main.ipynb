{
 "cells": [
  {
   "metadata": {},
   "cell_type": "markdown",
   "source": [
    "# Список вопросов задачи 1\n",
    "\n",
    "2 Вопроса:\n",
    "\n",
    "+ Как игроки отличаются от других клиентов Т-Банка?\n",
    "+ Чем отличаются заядлые покупатели игр?\n",
    "\n",
    "Можно преобразовать в 1:\n",
    "\n",
    "+ Как игроки отличаются от обычных людей.\n",
    "\n",
    "---\n",
    "\n",
    "1 Вопрос:\n",
    "\n",
    "+ Нацелены ли игры на разные аудитории? То есть, можно ли выделить несколько групп игр, покупатели которых сильно отличаются друг от друга?\n",
    "\n",
    "Преобразую в:\n",
    "\n",
    "+ Есть ли среди покупателей группы?\n",
    "\n",
    "---\n",
    "\n",
    "1 Вопрос:\n",
    "\n",
    "+ Справедливы ли выводы предыдущих пунктов на всем представленном временном промежутке?\n",
    "\n",
    "Преобразования не требует.\n",
    "\n",
    "---\n",
    "\n",
    "В итоге 3 вопроса:\n",
    "\n",
    "+ Как игроки отличаются от обычных людей?\n",
    "+ Есть ли среди покупателей группы?\n",
    "+ На всем ли промежутке времени?\n",
    "\n",
    "# Предварительный анализ данных задачи 1"
   ],
   "id": "f3debc3dcf0a470d"
  },
  {
   "metadata": {},
   "cell_type": "code",
   "source": [
    "import os\n",
    "\n",
    "root_path = os.getcwd()\n",
    "file_path = root_path + os.sep + 'T_games_dataset.csv'"
   ],
   "id": "c68cef7b070f06a8",
   "outputs": [],
   "execution_count": null
  },
  {
   "metadata": {},
   "cell_type": "markdown",
   "source": "Получили путь до файла с данными",
   "id": "c29dda593115914b"
  },
  {
   "metadata": {},
   "cell_type": "code",
   "source": [
    "import pandas as pd\n",
    "\n",
    "file_data = pd.read_csv(file_path)\n",
    "file_data.head(2)"
   ],
   "id": "d9df35c60e55d5f2",
   "outputs": [],
   "execution_count": null
  },
  {
   "metadata": {},
   "cell_type": "markdown",
   "source": "Проверка верного чтения данных из файла.",
   "id": "553911ccf1e19b58"
  },
  {
   "metadata": {},
   "cell_type": "code",
   "source": "file_data['city_nm'].value_counts().plot(kind='bar', figsize=(20, 3))",
   "id": "114d931fb86261e5",
   "outputs": [],
   "execution_count": null
  },
  {
   "metadata": {},
   "cell_type": "markdown",
   "source": [
    "+ Население за 2023 год взято с \"Яндекс Нейро\".\n",
    "+ Процент - Удельный показатель интереса к покупке игр.\n",
    "\n",
    "| Город           | Население (млн) | Покупок (тыс) | Процент (%) |\n",
    "|-----------------|-----------------|---------------|-------------|\n",
    "| Москва          | 13,1            | 37            | 0.282       |\n",
    "| Санкт-Петербург | 5,6             | 18,5          | 0.33        |\n",
    "| Екатеринбург    | 1,5             | 4,6           | 0.307       |\n",
    "| Новосибирск     | 1,6             | 4,5           | 0.281       |\n",
    "| Самара          | 1,1             | 2,7           | 0.245       |\n",
    "| Казань          | 1,3             | 2,5           | 0.192       |\n",
    "| Краснодар       | 1               | 2,5           | 0.25        |\n",
    "| Нижний Новгород | 1,2             | 2,4           | 0.2         |\n",
    "| Ростов-на-Дону  | 1,1             | 2,1           | 0.191       |\n",
    "| Красноярск      | 1,1             | 2             | 0.182       |\n",
    "| Челябинск       | 1,1             | 2             | 0.182       |\n",
    "| Уфа             | 1,1             | 1,7           | 0.155       |\n",
    "| Пермь           | 1               | 1,7           | 0.17        |\n",
    "| Воронеж         | 1               | 1,6           | 0.16        |\n",
    "| Омск            | 1,1             | 1,4           | 0.127       |\n",
    "| Волгоград       | 1               | 1,1           | 0.11        |\n",
    "| Среднее         |                 |               | 0.21025     |\n",
    "\n",
    "Можно заметить, что:\n",
    "\n",
    "+ В городах с большой численностью населения спрос повышенный.\n",
    "+ В средних и маленьких городах падает.\n",
    "\n",
    "Однако в общем по России - спрос остается на среднем уровне ~= 0.2%."
   ],
   "id": "5946b436ec3132c"
  },
  {
   "metadata": {},
   "cell_type": "code",
   "source": [
    "DATA = \"\"\"\n",
    "| Москва          | 13,1            | 37            |         |\n",
    "| Санкт-Петербург | 5,6             | 18,5          |         |\n",
    "| Екатеринбург    | 1,5             | 4,6           |         |\n",
    "| Новосибирск     | 1,6             | 4,5           |         |\n",
    "| Самара          | 1,1             | 2,7           |         |\n",
    "| Казань          | 1,3             | 2,5           |         |\n",
    "| Краснодар       | 1               | 2,5           |         |\n",
    "| Нижний Новгород | 1,2             | 2,4           |         |\n",
    "| Ростов-на-Дону  | 1,1             | 2,1           |         |\n",
    "| Красноярск      | 1,1             | 2             |         |\n",
    "| Челябинск       | 1,1             | 2             |         |\n",
    "| Уфа             | 1,1             | 1,7           |         |\n",
    "| Пермь           | 1               | 1,7           |         |\n",
    "| Воронеж         | 1               | 1,6           |         |\n",
    "| Омск            | 1,1             | 1,4           |         |\n",
    "| Волгоград       | 1               | 1,1           |         |\n",
    "\"\"\"\n",
    "\n",
    "cities = []\n",
    "\n",
    "for line in DATA.split('\\n'):\n",
    "\tif len(line) == 0:\n",
    "\t\tcontinue\n",
    "\n",
    "\trows = line.split('|')\n",
    "\n",
    "\tcity = rows[1].strip()\n",
    "\tpopulation = float(rows[2].replace(',', '.')) * 1_000_000\n",
    "\tshopping = float(rows[3].replace(',', '.')) * 1_000\n",
    "\n",
    "\tcities.append((city, round(shopping / population * 100, 3)))\n",
    "\n",
    "percentage = [percent for (city, percent) in cities]\n",
    "cities.append(('Среднее', sum(percentage) / len(percentage)))\n",
    "\n",
    "cities"
   ],
   "id": "4f2d9a8af88c94ce",
   "outputs": [],
   "execution_count": null
  },
  {
   "metadata": {},
   "cell_type": "code",
   "source": "file_data['age'].value_counts().sort_index().plot(figsize=(20, 4))",
   "id": "2f1e5c3dcef1d3b6",
   "outputs": [],
   "execution_count": null
  },
  {
   "metadata": {},
   "cell_type": "markdown",
   "source": [
    "Большую часть покупок совершала молодёжь.\n",
    "\n",
    "+ Повышенный спрос => 15(2.684) - 35(2.693).\n",
    "+ Пиковый спрос => 19(3.926) - 32(3.553)."
   ],
   "id": "b322c61dfe918a83"
  },
  {
   "metadata": {},
   "cell_type": "code",
   "source": "file_data['good_price'].value_counts().sort_index().plot(figsize=(20, 4))",
   "id": "ea40f2e6d9ee2192",
   "outputs": [],
   "execution_count": null
  },
  {
   "metadata": {},
   "cell_type": "markdown",
   "source": [
    "Самый большой спрос идет на игры, стоимость которых не превышает ~1000 рублей.\n",
    "Однако есть выделяющиеся покупки за 2к и 4к рублей."
   ],
   "id": "e4b69656c4632894"
  },
  {
   "metadata": {},
   "cell_type": "code",
   "source": [
    "# file_data['good_price'].value_counts().sort_values().iloc[-100:]\n",
    "pd.cut(file_data['good_price'], bins=range(0, 1050, 50)).value_counts().sort_index().plot(kind='bar', figsize=(20, 4))\n",
    "\n",
    "# import numpy as np\n",
    "# pd.cut(file_data['good_price'], bins=np.logspace(0, 4, 40)).value_counts().sort_index()"
   ],
   "id": "29fcf3ff02f61603",
   "outputs": [],
   "execution_count": null
  },
  {
   "metadata": {},
   "cell_type": "markdown",
   "source": [
    "+ На этом графике показано отношение цены игры к количеству покупок.\n",
    "+ Мы видим, что наибольший спрос (~12к покупок) у игр от 0 до 50 рублей.\n",
    "+ Также можно наблюдать повышенный спрос на игр от 0 до 400."
   ],
   "id": "cfc43a2bdf9e1376"
  },
  {
   "metadata": {},
   "cell_type": "code",
   "source": [
    "unique_clients = file_data.drop_duplicates(subset='client_id').groupby('age')\n",
    "unique_clients['monthly_income_amt'].mean().plot(figsize=(20, 4))\n",
    "\n",
    "# age_stats = unique_clients.agg(\n",
    "#     avg_income=('monthly_income_amt', 'mean'),\n",
    "#     client_count=('client_id', 'count')\n",
    "# )\n",
    "# age_stats.plot(y=['avg_income', 'client_count'], figsize=(20, 4))"
   ],
   "id": "4309dadfa9ac5fc8",
   "outputs": [],
   "execution_count": null
  },
  {
   "metadata": {},
   "cell_type": "markdown",
   "source": [
    "+ Этот график показывает уровень дохода у возрастных групп.\n",
    "+ Предварительно были убраны повторяющиеся пользователи.\n",
    "\n",
    "---\n",
    "\n",
    "+ На основании предоставленных данных, можно сделать вывод, что уровень дохода - не влияет на покупательский спрос данной категории.\n",
    "+ Однако, если сравнить уровни дохода с данными из интернета, то график должен быть выпуклым (иметь рост и падение).\n",
    "\n",
    "Возможные причины не верного анализа:\n",
    "\n",
    "1. Не достаточно данных для анализа (требуется больше количество операций).\n",
    "2. Не верно вычисляется уровень дохода у человека.\n"
   ],
   "id": "729327264bb4b8cd"
  },
  {
   "metadata": {},
   "cell_type": "markdown",
   "source": "",
   "id": "14eb968528a6b94"
  },
  {
   "metadata": {},
   "cell_type": "code",
   "source": [
    "file_data[file_data['age'] <= 6][['age', 'education_level', 'city_nm', 'monthly_income_amt']]\n",
    "# file_data[file_data['education_level'] == 'SCH']['age'].value_counts().sort_index()#.plot(figsize=(20, 4))"
   ],
   "id": "541607923b96cbbc",
   "outputs": [],
   "execution_count": null
  },
  {
   "metadata": {},
   "cell_type": "markdown",
   "source": [
    "+ В таблице выше выведены люди, возраст которых от 0 до 6 лет.\n",
    "\n",
    "Обратите внимание:\n",
    "\n",
    "+ из 10 строк школьниками являются только 2.\n",
    "+ Это явная ошибка, так как большая часть людей в этом возрасте должна иметь школьное образование (т.к. нет пункта - отсутствие образования)."
   ],
   "id": "707e06f0954a0804"
  },
  {
   "metadata": {},
   "cell_type": "code",
   "source": "file_data['education_level'].value_counts().sort_values()",
   "id": "dcc9c6bcc77ed4db",
   "outputs": [],
   "execution_count": null
  },
  {
   "metadata": {},
   "cell_type": "markdown",
   "source": "Однако, можно заметить, что больше всего людей со школьным и высшим образованием.",
   "id": "9adb7408bd73989"
  },
  {
   "metadata": {},
   "cell_type": "code",
   "source": "file_data['category_name'].value_counts().sort_values().iloc[-10:]",
   "id": "c1ed0d88d7bb64b6",
   "outputs": [],
   "execution_count": null
  },
  {
   "metadata": {},
   "cell_type": "markdown",
   "source": [
    "Как можно заметить:\n",
    "+ Категория \"Экшн\" - лидирует с большим отставанием.\n",
    "+ Есть группы категорий, которые имеют повышенный спрос (от 8к до 11к).\n",
    "+ Дальше все остальные группы, количество покупок которых меньше 4к."
   ],
   "id": "1277d6e9a0df6bdd"
  },
  {
   "metadata": {},
   "cell_type": "markdown",
   "source": "# Сравнение \"геймеров\" с обычными людьми",
   "id": "35a9703a0d048895"
  },
  {
   "metadata": {},
   "cell_type": "code",
   "source": [
    "# Получаем топ-10 клиентов по количеству операций\n",
    "top_clients = file_data['client_id'].value_counts().sort_values().iloc[-10:].index\n",
    "\n",
    "# Фильтруем данные только по топовым клиентам\n",
    "filtered_data = file_data[file_data['client_id'].isin(top_clients)]\n",
    "\n",
    "# Группируем и считаем статистику по категориям для каждого клиента\n",
    "result = (\n",
    "    filtered_data\n",
    "    .groupby('client_id')\n",
    "    .agg(\n",
    "        total_operations=('category_name', 'count'),\n",
    "        category_stats=('category_name', lambda x: x.value_counts().to_dict())\n",
    "    )\n",
    "    .sort_values('total_operations', ascending=False)\n",
    ")\n",
    "\n",
    "result"
   ],
   "id": "6506c141367cca8d",
   "outputs": [],
   "execution_count": null
  },
  {
   "metadata": {},
   "cell_type": "markdown",
   "source": "Можно заметить, что \"геймеры\" не очень активно играют в \"экшн\" (они следуют трендам, но это не самые любимые их игры).",
   "id": "25ba2f4bc5980b6c"
  },
  {
   "metadata": {},
   "cell_type": "code",
   "source": [
    "# Преобразование даты и создание месяца\n",
    "file_data['order_day'] = pd.to_datetime(file_data['order_day'])\n",
    "file_data['month'] = file_data['order_day'].dt.to_period('M')\n",
    "\n",
    "# Группировка и подсчёт операций\n",
    "monthly_stats = (\n",
    "    file_data.groupby(['month', 'category_name'])\n",
    "    .size()\n",
    "    .reset_index(name='count')\n",
    ")\n",
    "\n",
    "# Получение топ-3 категорий для каждого месяца\n",
    "top_categories = (\n",
    "    monthly_stats\n",
    "    .groupby('month', group_keys=False)\n",
    "    .apply(lambda x: x.nlargest(3, 'count'))\n",
    "    .reset_index(drop=True)  # Сбрасываем индекс, чтобы 'month' остался столбцом\n",
    ")\n",
    "\n",
    "# Конвертация в JSON\n",
    "result_json = (\n",
    "    top_categories\n",
    "    .groupby('month')\n",
    "    .apply(lambda x: x[['category_name', 'count']].to_dict('records'))\n",
    "    .to_dict()\n",
    ")\n",
    "\n",
    "# print(json.dumps(result_json, indent=2, ensure_ascii=False))\n",
    "result_json"
   ],
   "id": "24c2e6369484d078",
   "outputs": [],
   "execution_count": null
  },
  {
   "metadata": {},
   "cell_type": "markdown",
   "source": [
    "+ По месяцам можно обратить внимание, что \"Экшн\" был популярен большую часть промежутка времени.\n",
    "+ Однако есть отдельные месяцы, в которых хайп был у другой категорий (но на короткий промежуток).\n",
    "\n",
    "# Итоги части 1\n",
    "\n",
    "+ Больше всего покупок в Москве.\n",
    "+ Большая часть покупок совершает группа людей в возрасте от 15 до 32.\n",
    "+ Данные за границами 15-32 года - не считаются достоверными, так как очень мало данных.\n",
    "+ Низкая стоимость игр - больше продаж.\n",
    "+ Доходы людей - \"сомнительные\" данные.\n",
    "+ Образование - школьное и высшее.\n",
    "+ Геймерам не всегда нравятся тренды.\n",
    "\n",
    "Ответы на вопросы:\n",
    "\n",
    "+ Q: Как игроки отличаются от обычных людей?\n",
    "+ A: Геймеры не стараются следовать актуальным трендам, а играть в то, что им нравится.\n",
    "\n",
    "---\n",
    "\n",
    "+ Q: Есть ли среди покупателей группы?\n",
    "+ A: Да, есть, и можно заметить, что он делиться на 3 типа: Хайп, Общая масса, Мало популярные.\n",
    "\n",
    "---\n",
    "\n",
    "+ Q: На всем ли промежутке времени?\n",
    "+ A: Нет, промежуток актуален исключительно для людей от 15 до 32 лет (много данных в этом диапазоне)."
   ],
   "id": "6dfc5097c32d984f"
  },
  {
   "metadata": {},
   "cell_type": "markdown",
   "source": [
    "# Вывод\n",
    "\n",
    "Однозначного ответа как увеличить выручку - нет.\n",
    "\n",
    "Однако, есть рекомендации:\n",
    "\n",
    "1. Заинтересовывать покупателей повышенным кэшбэком.\n",
    "2. Рекламировать данный сервис, чтобы большее количество людей были информированы об акциях и \"заманчивых предложениях\".\n",
    "\n",
    "Проанализировав себя - я понял, что не был осведомлен о существование кэшбэков в играх."
   ],
   "id": "37cc71320fef5e46"
  }
 ],
 "metadata": {
  "kernelspec": {
   "name": "python3",
   "language": "python",
   "display_name": "Python 3 (ipykernel)"
  }
 },
 "nbformat": 5,
 "nbformat_minor": 9
}
